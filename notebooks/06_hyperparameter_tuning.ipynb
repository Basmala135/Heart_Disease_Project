{
 "cells": [
  {
   "cell_type": "code",
   "execution_count": 8,
   "id": "5745c238",
   "metadata": {},
   "outputs": [],
   "source": [
    "from sklearn.model_selection import GridSearchCV, RandomizedSearchCV\n",
    "from scipy.stats import randint\n",
    "\n",
    "import matplotlib.pyplot as plt\n",
    "import seaborn as sns\n",
    "import numpy as np\n",
    "import pandas as pd\n",
    "\n",
    "from sklearn.linear_model import LogisticRegression\n",
    "from sklearn.tree import DecisionTreeClassifier\n",
    "from sklearn.ensemble import RandomForestClassifier\n",
    "from sklearn.svm import SVC\n",
    "\n",
    "from sklearn.metrics import accuracy_score, precision_score, recall_score, f1_score, roc_auc_score, roc_curve"
   ]
  },
  {
   "cell_type": "code",
   "execution_count": 2,
   "id": "650ea5b0",
   "metadata": {},
   "outputs": [],
   "source": [
    "df = pd.read_csv(r\"C:\\Users\\DELL\\Desktop\\Depi\\Heart_Disease_Project\\data\\heart_disease_clean.csv\")"
   ]
  },
  {
   "cell_type": "code",
   "execution_count": 3,
   "id": "e45b786c",
   "metadata": {},
   "outputs": [],
   "source": [
    "from sklearn.model_selection import train_test_split\n",
    "\n",
    "X = df.drop(\"num\", axis=1)\n",
    "y = df[\"num\"]\n",
    "\n",
    "X_train, X_test, y_train, y_test = train_test_split(\n",
    "    X, y, test_size=0.2, random_state=42, stratify=y\n",
    ")\n"
   ]
  },
  {
   "cell_type": "code",
   "execution_count": 4,
   "id": "ec6cdf9e",
   "metadata": {},
   "outputs": [],
   "source": [
    "param_grids = {\n",
    "    \"Logistic Regression\": {\n",
    "        \"C\": [0.01, 0.1, 1, 10, 100],\n",
    "        \"solver\": [\"liblinear\", \"lbfgs\"]\n",
    "    },\n",
    "    \"Decision Tree\": {\n",
    "        \"max_depth\": [None, 5, 10, 20],\n",
    "        \"min_samples_split\": [2, 5, 10],\n",
    "        \"min_samples_leaf\": [1, 2, 4]\n",
    "    },\n",
    "    \"Random Forest\": {\n",
    "        \"n_estimators\": [50, 100, 200],\n",
    "        \"max_depth\": [None, 10, 20],\n",
    "        \"min_samples_split\": [2, 5, 10],\n",
    "        \"min_samples_leaf\": [1, 2, 4]\n",
    "    },\n",
    "    \"SVM\": {\n",
    "        \"C\": [0.1, 1, 10],\n",
    "        \"kernel\": [\"linear\", \"rbf\"],\n",
    "        \"gamma\": [\"scale\", \"auto\"]\n",
    "    }\n",
    "}"
   ]
  },
  {
   "cell_type": "code",
   "execution_count": 7,
   "id": "14d432f8",
   "metadata": {},
   "outputs": [],
   "source": [
    "base_models = {\n",
    "    \"Logistic Regression\": LogisticRegression(max_iter=500, random_state=42),\n",
    "    \"Decision Tree\": DecisionTreeClassifier(random_state=42),\n",
    "    \"Random Forest\": RandomForestClassifier(random_state=42),\n",
    "    \"SVM\": SVC(probability=True, random_state=42)\n",
    "}\n",
    "\n",
    "# Dictionaries to store results\n",
    "best_models = {}\n",
    "baseline_scores = {}\n",
    "tuned_scores = {}"
   ]
  },
  {
   "cell_type": "code",
   "execution_count": 9,
   "id": "264e8cb8",
   "metadata": {},
   "outputs": [],
   "source": [
    "for name, model in base_models.items():\n",
    "    model.fit(X_train, y_train)\n",
    "    y_pred = model.predict(X_test)\n",
    "    baseline_scores[name] = accuracy_score(y_test, y_pred)"
   ]
  },
  {
   "cell_type": "code",
   "execution_count": 10,
   "id": "90d8f735",
   "metadata": {},
   "outputs": [
    {
     "name": "stdout",
     "output_type": "stream",
     "text": [
      "Fitting 5 folds for each of 10 candidates, totalling 50 fits\n",
      "Best Params for Logistic Regression: {'C': 0.1, 'solver': 'lbfgs'}\n",
      "Baseline Accuracy: 0.6066  Tuned Accuracy: 0.6066\n",
      "\n",
      "Fitting 5 folds for each of 36 candidates, totalling 180 fits\n",
      "Best Params for Decision Tree: {'max_depth': 5, 'min_samples_leaf': 2, 'min_samples_split': 10}\n",
      "Baseline Accuracy: 0.4590  Tuned Accuracy: 0.4918\n",
      "\n",
      "Fitting 5 folds for each of 81 candidates, totalling 405 fits\n",
      "Best Params for Random Forest: {'max_depth': None, 'min_samples_leaf': 2, 'min_samples_split': 2, 'n_estimators': 50}\n",
      "Baseline Accuracy: 0.5410  Tuned Accuracy: 0.5410\n",
      "\n",
      "Fitting 5 folds for each of 12 candidates, totalling 60 fits\n",
      "Best Params for SVM: {'C': 10, 'gamma': 'scale', 'kernel': 'rbf'}\n",
      "Baseline Accuracy: 0.5574  Tuned Accuracy: 0.5410\n",
      "\n"
     ]
    }
   ],
   "source": [
    "for name, model in base_models.items():\n",
    "    grid_search = GridSearchCV(estimator=model,\n",
    "                               param_grid=param_grids[name],\n",
    "                               scoring='accuracy',\n",
    "                               cv=5,\n",
    "                               n_jobs=-1,\n",
    "                               verbose=1)\n",
    "    grid_search.fit(X_train, y_train)\n",
    "    best_models[name] = grid_search.best_estimator_\n",
    "    \n",
    "    # Evaluate tuned model\n",
    "    y_pred = best_models[name].predict(X_test)\n",
    "    tuned_scores[name] = accuracy_score(y_test, y_pred)\n",
    "    \n",
    "    print(f\"Best Params for {name}: {grid_search.best_params_}\")\n",
    "    print(f\"Baseline Accuracy: {baseline_scores[name]:.4f}  Tuned Accuracy: {tuned_scores[name]:.4f}\\n\")"
   ]
  },
  {
   "cell_type": "code",
   "execution_count": 11,
   "id": "2937c6dc",
   "metadata": {},
   "outputs": [
    {
     "name": "stdout",
     "output_type": "stream",
     "text": [
      "Fitting 5 folds for each of 20 candidates, totalling 100 fits\n",
      "RandomizedSearchCV Best Params (Random Forest): {'max_depth': 20, 'min_samples_leaf': 2, 'min_samples_split': 9, 'n_estimators': 269}\n",
      "RandomizedSearchCV Best Accuracy: 0.5573770491803278\n"
     ]
    }
   ],
   "source": [
    "rand_params = {\n",
    "    \"n_estimators\": randint(50, 300),\n",
    "    \"max_depth\": [None, 10, 20, 30],\n",
    "    \"min_samples_split\": randint(2, 10),\n",
    "    \"min_samples_leaf\": randint(1, 5)\n",
    "}\n",
    "\n",
    "rand_search = RandomizedSearchCV(RandomForestClassifier(random_state=42),\n",
    "                                 param_distributions=rand_params,\n",
    "                                 n_iter=20,\n",
    "                                 cv=5,\n",
    "                                 scoring=\"accuracy\",\n",
    "                                 n_jobs=-1,\n",
    "                                 random_state=42,\n",
    "                                 verbose=1)\n",
    "\n",
    "rand_search.fit(X_train, y_train)\n",
    "print(\"RandomizedSearchCV Best Params (Random Forest):\", rand_search.best_params_)\n",
    "print(\"RandomizedSearchCV Best Accuracy:\", accuracy_score(y_test, rand_search.best_estimator_.predict(X_test)))"
   ]
  },
  {
   "cell_type": "code",
   "execution_count": 12,
   "id": "b0f9ed6d",
   "metadata": {},
   "outputs": [
    {
     "name": "stdout",
     "output_type": "stream",
     "text": [
      "Model saved as best_model.pkl\n"
     ]
    }
   ],
   "source": [
    "import joblib\n",
    "from sklearn.pipeline import Pipeline\n",
    "from sklearn.preprocessing import StandardScaler\n",
    "\n",
    "best_model = best_models[\"Logistic Regression\"]\n",
    "\n",
    "pipeline = Pipeline([\n",
    "    ('scaler', StandardScaler()),   \n",
    "    ('model', best_model)\n",
    "])\n",
    "\n",
    "# Fit pipeline on full training data\n",
    "pipeline.fit(X_train, y_train)\n",
    "\n",
    "# Save model as .pkl\n",
    "joblib.dump(pipeline, \"best_model.pkl\")\n",
    "print(\"Model saved as best_model.pkl\")"
   ]
  },
  {
   "cell_type": "code",
   "execution_count": null,
   "id": "48c9aae0",
   "metadata": {},
   "outputs": [],
   "source": []
  }
 ],
 "metadata": {
  "kernelspec": {
   "display_name": "Python 3",
   "language": "python",
   "name": "python3"
  },
  "language_info": {
   "codemirror_mode": {
    "name": "ipython",
    "version": 3
   },
   "file_extension": ".py",
   "mimetype": "text/x-python",
   "name": "python",
   "nbconvert_exporter": "python",
   "pygments_lexer": "ipython3",
   "version": "3.12.4"
  }
 },
 "nbformat": 4,
 "nbformat_minor": 5
}
